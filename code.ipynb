{
 "cells": [
  {
   "cell_type": "code",
   "execution_count": 2,
   "metadata": {},
   "outputs": [],
   "source": [
    "import os\n",
    "\n",
    "os.environ[\"OPENAI_API_KEY\"] = \"\"\n",
    "question = \"What were sales in 2022?\""
   ]
  },
  {
   "cell_type": "code",
   "execution_count": 3,
   "metadata": {},
   "outputs": [],
   "source": [
    "# Create a vector datastore using faiss\n",
    "from langchain_community.document_loaders import WebBaseLoader\n",
    "from langchain_community.document_loaders import TextLoader\n",
    "from langchain_openai import OpenAIEmbeddings\n",
    "\n",
    "embeddings = OpenAIEmbeddings(model=\"text-embedding-3-small\")\n"
   ]
  },
  {
   "cell_type": "code",
   "execution_count": 4,
   "metadata": {},
   "outputs": [],
   "source": [
    "\n",
    "loader = TextLoader(\"./filings/GOOG/1Q22 10Q.txt\", encoding=\"utf8\")\n",
    "docs = loader.load()"
   ]
  },
  {
   "cell_type": "code",
   "execution_count": 5,
   "metadata": {},
   "outputs": [],
   "source": [
    "from langchain_community.vectorstores import FAISS\n",
    "from langchain_text_splitters import RecursiveCharacterTextSplitter\n",
    "\n",
    "\n",
    "text_splitter = RecursiveCharacterTextSplitter()\n",
    "documents = text_splitter.split_documents(docs)\n",
    "vector_store = FAISS.from_documents(documents, embeddings)"
   ]
  },
  {
   "cell_type": "code",
   "execution_count": 6,
   "metadata": {},
   "outputs": [
    {
     "data": {
      "text/plain": [
       "[Document(page_content=\"43\\nTable of Contents\\nAlphabet Inc.\\n \\nITEM 6.EXHIBITS\\nExhibit\\nNumber\\n  \\tDescription\\t\\tIncorporated by reference herein\\nForm\\t\\tDate\\n31.01\\t*\\t\\nCertification of Chief Executive Officer pursuant to Exchange Act Rules 13a-14(a) and 15d-14(a), as adopted pursuant to Section 302 of the Sarbanes-Oxley Act of 2002\\n31.02\\t*\\t\\nCertification of Chief Financial Officer pursuant to Exchange Act Rules 13a-14(a) and 15d-14(a), as adopted pursuant to Section 302 of the Sarbanes-Oxley Act of 2002\\n32.01\\t‡\\t\\nCertifications of Chief Executive Officer and Chief Financial Officer pursuant to 18 U.S.C. Section 1350, as adopted pursuant to Section 906 of the Sarbanes-Oxley Act of 2002\\n101.INS\\t*\\tInline XBRL Instance Document - the instance document does not appear in the Interactive Data File because its XBRL tags are embedded within the Inline XBRL document.\\t\\t\\t\\t\\n101.SCH\\t*\\tInline XBRL Taxonomy Extension Schema Document\\t\\t\\t\\t\\n101.CAL\\t*\\tInline XBRL Taxonomy Extension Calculation Linkbase Document\\t\\t\\t\\t\\n101.DEF\\t*\\tInline XBRL Taxonomy Extension Definition Linkbase Document\\t\\t\\t\\t\\n101.LAB\\t*\\tInline XBRL Taxonomy Extension Label Linkbase Document\\t\\t\\t\\t\\n101.PRE\\t*\\tInline XBRL Taxonomy Extension Presentation Linkbase Document\\t\\t\\t\\t\\n104\\nCover Page Interactive Data File (formatted as Inline XBRL and contained in Exhibit 101)\\t\\t\\t\\t\\n \\n__________________________  \\n*\\tFiled herewith.\\n‡\\tFurnished herewith.\\n \\n\\n44\\nTable of Contents\\nAlphabet Inc.\\n \\nSIGNATURE\\nPursuant to the requirements of the Securities Exchange Act of 1934, the registrant has duly caused this report to be signed on its behalf by the undersigned thereunto duly authorized.\\n\\nALPHABET INC.\\nApril 26, 2022\\tBy:\\t/s/    RUTH M. PORAT        \\nRuth M. Porat\\nSenior Vice President and Chief Financial Officer\\n \\nALPHABET INC.\\nApril 26, 2022\\tBy:\\t/s/    AMIE THUENER O'TOOLE        \\nAmie Thuener O'Toole\\nVice President and Chief Accounting Officer\\n \\n45\", metadata={'source': './filings/GOOG/1Q22 10Q.txt'}),\n",
       " Document(page_content='UNITED STATES\\nSECURITIES AND EXCHANGE COMMISSION\\nWashington, D.C. 20549\\n________________________________________________________________________________________\\nFORM 10-Q\\n________________________________________________________________________________________\\n(Mark One)\\n☒\\tQUARTERLY REPORT PURSUANT TO SECTION 13 OR 15(d) OF THE SECURITIES EXCHANGE ACT OF 1934\\n \\nFor the quarterly period ended March 31, 2022\\nOR \\n☐\\tTRANSITION REPORT PURSUANT TO SECTION 13 OR 15(d) OF THE SECURITIES EXCHANGE ACT OF 1934\\n \\nFor the transition period from _______ to _______\\nCommission file number: 001-37580\\n________________________________________________________________________________________\\nAlphabet Inc.\\n(Exact name of registrant as specified in its charter)\\n________________________________________________________________________________________ \\nDelaware\\t61-1767919\\n(State or other jurisdiction of incorporation or organization)\\t(I.R.S. Employer Identification Number)\\n \\n1600 Amphitheatre Parkway\\nMountain View, CA 94043\\n(Address of principal executive offices, including zip code)\\n(650) 253-0000\\n(Registrant\\'s telephone number, including area code) \\nSecurities registered pursuant to Section 12(b) of the Act:\\nTitle of each class\\tTrading Symbol(s)\\tName of each exchange on which registered\\nClass A Common Stock, $0.001 par value\\tGOOGL\\tNasdaq Stock Market LLC\\n(Nasdaq Global Select Market)\\nClass C Capital Stock, $0.001 par value\\tGOOG\\tNasdaq Stock Market LLC\\n(Nasdaq Global Select Market)\\n \\n________________________________________________________________________________________\\nIndicate by check mark whether the registrant: (1) has filed all reports required to be filed by Section 13 or 15(d) of the Securities Exchange Act of 1934 during the preceding 12 months (or for such shorter period that the registrant was required to file such reports), and (2) has been subject to such filing requirements for the past 90 days.    Yes  ☒    No  ☐\\nIndicate by check mark whether the registrant has submitted electronically every Interactive Data File required to be submitted pursuant to Rule 405 of Regulation S-T (§232.405 of this chapter) during the preceding 12 months (or for such shorter period that the registrant was required to submit such files).    Yes  ☒    No  ☐\\nIndicate by check mark whether the registrant is a large accelerated filer, an accelerated filer, a non-accelerated filer, a smaller reporting company, or an emerging growth company. See the definitions of “large accelerated filer,” “accelerated filer,” “smaller reporting company,” and \"emerging growth company\" in Rule 12b-2 of the Exchange Act.\\nLarge accelerated filer\\t☒\\t  \\tAccelerated filer\\t☐\\nNon-accelerated filer\\t☐\\t\\tSmaller reporting company\\t☐\\nEmerging growth company\\t☐\\t\\t\\t\\n \\nIf an emerging growth company, indicate by check mark if the registrant has elected not to use the extended transition period for complying with any new or revised financial accounting standards provided pursuant to Section 13(a) of the Exchange Act.   ☐\\nIndicate by check mark whether the registrant is a shell company (as defined in Rule 12b-2 of the Exchange Act).  Yes ☐    No ☒\\nAs of April 19, 2022, there were 300,763,622 shares of Alphabet’s Class A stock outstanding, 44,359,838 shares of Alphabet\\'s Class B stock outstanding, and 313,376,417 shares of Alphabet\\'s Class C stock outstanding.', metadata={'source': './filings/GOOG/1Q22 10Q.txt'}),\n",
       " Document(page_content=\"Table of Contents\\nAlphabet Inc.\\n \\nAlphabet Inc.\\nForm 10-Q\\nFor the Quarterly Period Ended March 31, 2022\\nTABLE OF CONTENTS \\n \\t \\tPage No.\\nNote About Forward-Looking Statements\\n3\\nPART I. FINANCIAL INFORMATION\\nItem 1\\t\\nFinancial Statements\\n5\\nConsolidated Balance Sheets - December 31, 2021 and March 31, 2022\\n5\\nConsolidated Statements of Income - Three Months Ended March 31, 2021 and 2022\\n6\\nConsolidated Statements of Comprehensive Income - Three Months Ended March 31, 2021 and 2022\\n7\\nConsolidated Statements of Stockholders' Equity - Three Months Ended March 31, 2021 and 2022\\n8\\nConsolidated Statements of Cash Flows - Three Months Ended March 31, 2021 and 2022\\n9\\nNotes to Consolidated Financial Statements\\n10\\nItem 2\\t\\nManagement’s Discussion and Analysis of Financial Condition and Results of Operations\\n30\\nItem 3\\t\\nQuantitative and Qualitative Disclosures About Market Risk\\n42\\nItem 4\\t\\nControls and Procedures\\n42\\nPART II. OTHER INFORMATION\\nItem 1\\t\\nLegal Proceedings\\n43\\nItem 1A\\t\\nRisk Factors\\n43\\nItem 2\\t\\nUnregistered Sales of Equity Securities and Use of Proceeds\\n43\\nItem 6\\t\\nExhibits\\n44\\nSignature\\n45\", metadata={'source': './filings/GOOG/1Q22 10Q.txt'}),\n",
       " Document(page_content='•Other Bets is a combination of multiple operating segments that are not individually material. Revenues from Other Bets are generated primarily from the sale of health technology and internet services.\\nRevenues, certain costs, such as costs associated with content and traffic acquisition, certain engineering activities, and hardware, as well as certain operating expenses are directly attributable to our segments. Due to the integrated nature of Alphabet, other costs and expenses, such as technical infrastructure and office facilities, are managed centrally at a consolidated level. The associated costs, including depreciation and impairment, are allocated to operating segments as a service cost generally based on usage or headcount.\\nUnallocated corporate costs primarily include corporate initiatives, corporate shared costs, such as finance and legal, including certain fines and settlements, as well as costs associated with certain shared R&D activities. Additionally, hedging gains (losses) related to revenue are included in corporate costs.\\nOur operating segments are not evaluated using asset information.\\nThe following table presents information about segments (in millions): \\n \\tThree Months Ended\\nMarch 31,\\n \\t2021\\t\\t2022\\nRevenues:\\t\\t\\t\\nGoogle Services\\t$\\t51,178 \\t\\t\\t$\\t61,472 \\t\\nGoogle Cloud\\t4,047 \\t\\t\\t5,821 \\t\\nOther Bets\\t198 \\t\\t\\t440 \\t\\nHedging gains (losses)\\t(109)\\t\\t\\t278 \\t\\nTotal revenues\\t$\\t55,314 \\t\\t\\t$\\t68,011 \\t\\n \\n28\\nTable of Contents\\nAlphabet Inc.\\n \\n \\tThree Months Ended\\nMarch 31,\\n \\t2021\\t\\t2022\\nOperating income (loss):\\t\\t\\t\\nGoogle Services\\t$\\t19,546 \\t\\t\\t$\\t22,920 \\t\\nGoogle Cloud\\t(974)\\t\\t\\t(931)\\t\\nOther Bets\\t(1,145)\\t\\t\\t(1,155)\\t\\nCorporate costs, unallocated\\t(990)\\t\\t\\t(740)\\t\\nTotal income from operations\\t$\\t16,437 \\t\\t\\t$\\t20,094 \\t\\n \\nFor revenues by geography, see Note 2.\\nThe following table presents long-lived assets by geographic area, which includes property and equipment, net and operating lease assets (in millions): \\nAs of\\nDecember 31, 2021\\t\\tAs of\\nMarch 31, 2022\\nLong-lived assets:\\t\\t\\t\\nUnited States\\t$\\t80,207 \\t\\t\\t$\\t85,341 \\t\\nInternational\\t30,351 \\t\\t\\t31,869 \\t\\nTotal long-lived assets\\t$\\t110,558 \\t\\t\\t$\\t117,210 \\t\\n \\n29\\nTable of Contents\\nAlphabet Inc.\\n \\nITEM 2.MANAGEMENT’S DISCUSSION AND ANALYSIS OF FINANCIAL CONDITION AND RESULTS OF OPERATIONS\\nPlease read the following discussion and analysis of our financial condition and results of operations together with \"Note About Forward-Looking Statements\" and our consolidated financial statements and related notes included under Item 1 of this Quarterly Report on Form 10-Q as well as our Annual Report on Form 10-K for the fiscal year ended December 31, 2021, including Part I, Item 1A \"Risk Factors.\"\\nUnderstanding Alphabet’s Financial Results\\nAlphabet is a collection of businesses — the largest of which is Google. We report Google in two segments, Google Services and Google Cloud; we also report all non-Google businesses collectively as Other Bets. Other Bets include earlier stage technologies that are further afield from our core Google business. For further details on our segments, see Note 14 of the Notes to Consolidated Financial Statements included in Item 1 of this Quarterly Report on Form 10-Q.\\nSeasonality and other\\nOur advertising revenues are affected by seasonal fluctuations in internet usage, advertising expenditures, and underlying business trends, such as traditional retail seasonality. Additionally, our non-advertising revenues, including those generated from Google Cloud, Google Play, hardware, and YouTube, may be affected by fluctuations driven by changes in pricing, digital content releases, fee structures, new product and service launches, and other market dynamics, as well as seasonality.\\nRevenues and Monetization Metrics\\nGoogle Services\\nGoogle Services revenues consist of revenues generated from advertising (“Google advertising”) as well as revenues from other sources (“Google other revenues”).\\nGoogle Advertising\\nGoogle advertising revenues are comprised of the following:', metadata={'source': './filings/GOOG/1Q22 10Q.txt'})]"
      ]
     },
     "execution_count": 6,
     "metadata": {},
     "output_type": "execute_result"
    }
   ],
   "source": [
    "vector_store.similarity_search(\"test\")"
   ]
  },
  {
   "cell_type": "code",
   "execution_count": 7,
   "metadata": {},
   "outputs": [],
   "source": [
    "# TO DO\n",
    "# Is it possible to filter the 'source' metadata in the vector store?\n"
   ]
  },
  {
   "cell_type": "code",
   "execution_count": 8,
   "metadata": {},
   "outputs": [],
   "source": [
    "# Ask LLM to break out what time period the question is asking about"
   ]
  },
  {
   "cell_type": "code",
   "execution_count": 9,
   "metadata": {},
   "outputs": [],
   "source": [
    "# Use the result to do a similarity search on the vector datastore"
   ]
  },
  {
   "cell_type": "code",
   "execution_count": 10,
   "metadata": {},
   "outputs": [],
   "source": [
    "# Use the documents to answer the question"
   ]
  }
 ],
 "metadata": {
  "kernelspec": {
   "display_name": "Python 3",
   "language": "python",
   "name": "python3"
  },
  "language_info": {
   "codemirror_mode": {
    "name": "ipython",
    "version": 3
   },
   "file_extension": ".py",
   "mimetype": "text/x-python",
   "name": "python",
   "nbconvert_exporter": "python",
   "pygments_lexer": "ipython3",
   "version": "3.12.0"
  }
 },
 "nbformat": 4,
 "nbformat_minor": 2
}
